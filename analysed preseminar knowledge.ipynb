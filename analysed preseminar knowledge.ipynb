{
 "cells": [
  {
   "cell_type": "code",
   "execution_count": 1,
   "id": "6f50e62d-1db3-4116-9de4-1bcd2ad594e5",
   "metadata": {},
   "outputs": [],
   "source": [
    "import pandas as pd"
   ]
  },
  {
   "cell_type": "markdown",
   "id": "d57c0773-7d36-4da2-8cbe-448dd3ae4846",
   "metadata": {},
   "source": [
    "Loading the dataset for analysis \n",
    "viewing the first 5 rows of the dataset"
   ]
  },
  {
   "cell_type": "code",
   "execution_count": 2,
   "id": "bea43e54-3242-4900-9069-b434bfe6184c",
   "metadata": {},
   "outputs": [
    {
     "data": {
      "text/html": [
       "<div>\n",
       "<style scoped>\n",
       "    .dataframe tbody tr th:only-of-type {\n",
       "        vertical-align: middle;\n",
       "    }\n",
       "\n",
       "    .dataframe tbody tr th {\n",
       "        vertical-align: top;\n",
       "    }\n",
       "\n",
       "    .dataframe thead th {\n",
       "        text-align: right;\n",
       "    }\n",
       "</style>\n",
       "<table border=\"1\" class=\"dataframe\">\n",
       "  <thead>\n",
       "    <tr style=\"text-align: right;\">\n",
       "      <th></th>\n",
       "      <th>Age</th>\n",
       "      <th>Marital status</th>\n",
       "      <th>Religious</th>\n",
       "      <th>Ethnicity</th>\n",
       "      <th>Faculty</th>\n",
       "      <th>level</th>\n",
       "      <th>Permanent residence</th>\n",
       "      <th>Family degree of breast cancer</th>\n",
       "      <th>Is breast cancer the most common cancer in Nigeian women</th>\n",
       "      <th>Knowledge_level_of_breastcancer_risk_factors</th>\n",
       "      <th>Knowledge of the foods that modify the risk of breast cancer</th>\n",
       "      <th>Is breast cancer preventable</th>\n",
       "      <th>Is breast cancer contagious</th>\n",
       "      <th>Does diagnosis of breast cancer always lead to death</th>\n",
       "      <th>Does breast cancer affect only post-menopausal women</th>\n",
       "      <th>Can breast cancer be developed without family history</th>\n",
       "    </tr>\n",
       "  </thead>\n",
       "  <tbody>\n",
       "    <tr>\n",
       "      <th>0</th>\n",
       "      <td>22</td>\n",
       "      <td>Single</td>\n",
       "      <td>Muslim</td>\n",
       "      <td>Yoruba</td>\n",
       "      <td>Agriculture</td>\n",
       "      <td>300</td>\n",
       "      <td>Rural</td>\n",
       "      <td>No family history</td>\n",
       "      <td>Yes</td>\n",
       "      <td>Poor</td>\n",
       "      <td>No</td>\n",
       "      <td>Yes</td>\n",
       "      <td>No</td>\n",
       "      <td>Yes</td>\n",
       "      <td>Yes</td>\n",
       "      <td>Yes</td>\n",
       "    </tr>\n",
       "    <tr>\n",
       "      <th>1</th>\n",
       "      <td>19</td>\n",
       "      <td>Single</td>\n",
       "      <td>Muslim</td>\n",
       "      <td>Yoruba</td>\n",
       "      <td>Agriculture</td>\n",
       "      <td>300</td>\n",
       "      <td>Urban</td>\n",
       "      <td>No family history</td>\n",
       "      <td>Yes</td>\n",
       "      <td>Good</td>\n",
       "      <td>No</td>\n",
       "      <td>Yes</td>\n",
       "      <td>No</td>\n",
       "      <td>No</td>\n",
       "      <td>No</td>\n",
       "      <td>Yes</td>\n",
       "    </tr>\n",
       "    <tr>\n",
       "      <th>2</th>\n",
       "      <td>20</td>\n",
       "      <td>Single</td>\n",
       "      <td>Christian</td>\n",
       "      <td>Yoruba</td>\n",
       "      <td>Agriculture</td>\n",
       "      <td>200</td>\n",
       "      <td>Rural</td>\n",
       "      <td>No family history</td>\n",
       "      <td>Yes</td>\n",
       "      <td>Poor</td>\n",
       "      <td>I don't know</td>\n",
       "      <td>Yes</td>\n",
       "      <td>No</td>\n",
       "      <td>Yes</td>\n",
       "      <td>Yes</td>\n",
       "      <td>Yes</td>\n",
       "    </tr>\n",
       "    <tr>\n",
       "      <th>3</th>\n",
       "      <td>22</td>\n",
       "      <td>Others</td>\n",
       "      <td>Christian</td>\n",
       "      <td>Yoruba</td>\n",
       "      <td>Agriculture</td>\n",
       "      <td>300</td>\n",
       "      <td>Urban</td>\n",
       "      <td>No family history</td>\n",
       "      <td>No</td>\n",
       "      <td>Poor</td>\n",
       "      <td>I don't know</td>\n",
       "      <td>Yes</td>\n",
       "      <td>No</td>\n",
       "      <td>No</td>\n",
       "      <td>No</td>\n",
       "      <td>Yes</td>\n",
       "    </tr>\n",
       "    <tr>\n",
       "      <th>4</th>\n",
       "      <td>21</td>\n",
       "      <td>Single</td>\n",
       "      <td>Christian</td>\n",
       "      <td>Yoruba</td>\n",
       "      <td>Agriculture</td>\n",
       "      <td>300</td>\n",
       "      <td>Urban</td>\n",
       "      <td>No family history</td>\n",
       "      <td>Yes</td>\n",
       "      <td>Poor</td>\n",
       "      <td>I don't know</td>\n",
       "      <td>Yes</td>\n",
       "      <td>No</td>\n",
       "      <td>No</td>\n",
       "      <td>No</td>\n",
       "      <td>Yes</td>\n",
       "    </tr>\n",
       "  </tbody>\n",
       "</table>\n",
       "</div>"
      ],
      "text/plain": [
       "   Age Marital status   Religious Ethnicity      Faculty  level  \\\n",
       "0   22         Single      Muslim    Yoruba  Agriculture    300   \n",
       "1   19         Single      Muslim    Yoruba  Agriculture    300   \n",
       "2   20         Single   Christian    Yoruba  Agriculture    200   \n",
       "3   22         Others   Christian    Yoruba  Agriculture    300   \n",
       "4   21         Single   Christian    Yoruba  Agriculture    300   \n",
       "\n",
       "  Permanent residence Family degree of breast cancer  \\\n",
       "0               Rural              No family history   \n",
       "1               Urban              No family history   \n",
       "2               Rural              No family history   \n",
       "3               Urban              No family history   \n",
       "4               Urban              No family history   \n",
       "\n",
       "  Is breast cancer the most common cancer in Nigeian women  \\\n",
       "0                                                Yes         \n",
       "1                                                Yes         \n",
       "2                                                Yes         \n",
       "3                                                 No         \n",
       "4                                                Yes         \n",
       "\n",
       "  Knowledge_level_of_breastcancer_risk_factors  \\\n",
       "0                                         Poor   \n",
       "1                                         Good   \n",
       "2                                         Poor   \n",
       "3                                         Poor   \n",
       "4                                         Poor   \n",
       "\n",
       "  Knowledge of the foods that modify the risk of breast cancer  \\\n",
       "0                                                 No             \n",
       "1                                                 No             \n",
       "2                                       I don't know             \n",
       "3                                       I don't know             \n",
       "4                                       I don't know             \n",
       "\n",
       "  Is breast cancer preventable Is breast cancer contagious  \\\n",
       "0                          Yes                          No   \n",
       "1                          Yes                          No   \n",
       "2                          Yes                          No   \n",
       "3                          Yes                          No   \n",
       "4                          Yes                          No   \n",
       "\n",
       "  Does diagnosis of breast cancer always lead to death  \\\n",
       "0                                                Yes     \n",
       "1                                                 No     \n",
       "2                                                Yes     \n",
       "3                                                 No     \n",
       "4                                                 No     \n",
       "\n",
       "  Does breast cancer affect only post-menopausal women  \\\n",
       "0                                                Yes     \n",
       "1                                                 No     \n",
       "2                                                Yes     \n",
       "3                                                 No     \n",
       "4                                                 No     \n",
       "\n",
       "  Can breast cancer be developed without family history  \n",
       "0                                                Yes     \n",
       "1                                                Yes     \n",
       "2                                                Yes     \n",
       "3                                                Yes     \n",
       "4                                                Yes     "
      ]
     },
     "execution_count": 2,
     "metadata": {},
     "output_type": "execute_result"
    }
   ],
   "source": [
    "knowledge=pd.read_csv('knowledge-preseminar.csv',delimiter=';')\n",
    "knowledge.head()"
   ]
  },
  {
   "cell_type": "code",
   "execution_count": 3,
   "id": "4df82a5a-5519-44ca-82b0-098f7c239ad5",
   "metadata": {},
   "outputs": [],
   "source": [
    "knowledge.columns=knowledge.columns.str.strip()"
   ]
  },
  {
   "cell_type": "markdown",
   "id": "e1d12a0a-a03e-4944-98a5-9eea203ee5bf",
   "metadata": {},
   "source": [
    "converting the responses into dummy variables to find the sum and categorize the knowledge of the participants towards breast cancer prevention"
   ]
  },
  {
   "cell_type": "code",
   "execution_count": 4,
   "id": "a1b8af99-f756-4d10-86ff-55b72a0ecdee",
   "metadata": {},
   "outputs": [
    {
     "data": {
      "text/plain": [
       "Index(['most_commonfemalecancer_No', 'most_commonfemalecancer_Yes'], dtype='object')"
      ]
     },
     "execution_count": 4,
     "metadata": {},
     "output_type": "execute_result"
    }
   ],
   "source": [
    "most_commonfemalecancer=pd.get_dummies(knowledge['Is breast cancer the most common cancer in Nigeian women'])\n",
    "most_commonfemalecancer=most_commonfemalecancer.astype(int)\n",
    "most_commonfemalecancer=most_commonfemalecancer.drop(columns=[\"i don't know\"],axis=1)\n",
    "most_commonfemalecancer.columns=['most_commonfemalecancer_No','most_commonfemalecancer_Yes']\n",
    "most_commonfemalecancer.columns"
   ]
  },
  {
   "cell_type": "code",
   "execution_count": 5,
   "id": "58527fd9-f626-441e-8c61-2bac7b40aa2a",
   "metadata": {},
   "outputs": [
    {
     "data": {
      "text/plain": [
       "Index(['breastcancer_knowledgelevel_Good', 'breastcancer_knowledgelevel_Poor'], dtype='object')"
      ]
     },
     "execution_count": 5,
     "metadata": {},
     "output_type": "execute_result"
    }
   ],
   "source": [
    "breastcancer_knowledgelevel=pd.get_dummies(knowledge['Knowledge_level_of_breastcancer_risk_factors'])\n",
    "breastcancer_knowledgelevel=breastcancer_knowledgelevel.astype(int)\n",
    "breastcancer_knowledgelevel=breastcancer_knowledgelevel.drop(columns=['Average'],axis=1)\n",
    "breastcancer_knowledgelevel.columns=['breastcancer_knowledgelevel_Good','breastcancer_knowledgelevel_Poor']\n",
    "breastcancer_knowledgelevel.columns"
   ]
  },
  {
   "cell_type": "code",
   "execution_count": 6,
   "id": "35ce823a-1ae7-4cb1-8842-5a7e77df0b06",
   "metadata": {},
   "outputs": [
    {
     "data": {
      "text/plain": [
       "Index(['food_knowledge_No', 'food_knowledge_Yes'], dtype='object')"
      ]
     },
     "execution_count": 6,
     "metadata": {},
     "output_type": "execute_result"
    }
   ],
   "source": [
    "food_knowledge=pd.get_dummies(knowledge['Knowledge of the foods that modify the risk of breast cancer'])\n",
    "food_knowledge=food_knowledge.astype(int)\n",
    "food_knowledge=food_knowledge.drop(columns=[\"I don't know\"],axis=1)\n",
    "food_knowledge.columns=['food_knowledge_No','food_knowledge_Yes']\n",
    "food_knowledge.columns"
   ]
  },
  {
   "cell_type": "code",
   "execution_count": 7,
   "id": "ace41d6d-e7f3-4aba-ab3e-bbf5a4b066e5",
   "metadata": {},
   "outputs": [
    {
     "data": {
      "text/plain": [
       "Index(['breastcancer_prevention_No', 'breastcancer_prevention_Yes'], dtype='object')"
      ]
     },
     "execution_count": 7,
     "metadata": {},
     "output_type": "execute_result"
    }
   ],
   "source": [
    "breastcancer_prevention=pd.get_dummies(knowledge['Is breast cancer preventable'])\n",
    "breastcancer_prevention=breastcancer_prevention.astype(int)\n",
    "breastcancer_prevention=breastcancer_prevention.drop(columns=[\"I don't know\"],axis=1)\n",
    "breastcancer_prevention.columns=['breastcancer_prevention_No','breastcancer_prevention_Yes']\n",
    "breastcancer_prevention.columns"
   ]
  },
  {
   "cell_type": "code",
   "execution_count": 8,
   "id": "9b6f69c6-4201-42c3-aa7c-e1ece99b410e",
   "metadata": {},
   "outputs": [
    {
     "data": {
      "text/plain": [
       "Index(['breastcancer_contagious_No', 'breastcancer_contagious_Yes'], dtype='object')"
      ]
     },
     "execution_count": 8,
     "metadata": {},
     "output_type": "execute_result"
    }
   ],
   "source": [
    "breastcancer_contagious=pd.get_dummies(knowledge['Is breast cancer contagious'])\n",
    "breastcancer_contagious=breastcancer_contagious.replace({'Yes': 0, 'No': 1})\n",
    "breastcancer_contagious=breastcancer_contagious.astype(int)\n",
    "breastcancer_contagious=breastcancer_contagious.drop(columns=[\"I don't know\"],axis=1)\n",
    "breastcancer_contagious.columns=['breastcancer_contagious_No','breastcancer_contagious_Yes']\n",
    "breastcancer_contagious.columns"
   ]
  },
  {
   "cell_type": "code",
   "execution_count": 9,
   "id": "85898af7-e721-4676-864b-47da90e54001",
   "metadata": {},
   "outputs": [
    {
     "data": {
      "text/plain": [
       "Index(['breastcancer_death_No', 'breastcancer_death_Yes'], dtype='object')"
      ]
     },
     "execution_count": 9,
     "metadata": {},
     "output_type": "execute_result"
    }
   ],
   "source": [
    "breastcancer_death=pd.get_dummies(knowledge['Does diagnosis of breast cancer always lead to death'])\n",
    "breastcancer_death=breastcancer_death.replace({'Yes':0, 'No':1})\n",
    "breastcancer_death=breastcancer_death.astype(int)\n",
    "breastcancer_death=breastcancer_death.drop(columns=[\"I don't know\"],axis=1)\n",
    "breastcancer_death.columns = ['breastcancer_death_No', 'breastcancer_death_Yes']\n",
    "breastcancer_death.columns"
   ]
  },
  {
   "cell_type": "code",
   "execution_count": 10,
   "id": "6d7717ee-b886-4c08-874f-6fc438be837c",
   "metadata": {},
   "outputs": [
    {
     "data": {
      "text/plain": [
       "Index(['breastcancer_postmenopause_No', 'breastcancer_postmenopause_Yes'], dtype='object')"
      ]
     },
     "execution_count": 10,
     "metadata": {},
     "output_type": "execute_result"
    }
   ],
   "source": [
    "breastcancer_postmenopause=pd.get_dummies(knowledge['Does breast cancer affect only post-menopausal women'])\n",
    "breastcancer_postmenopause=breastcancer_postmenopause.astype(int)\n",
    "breastcancer_postmenopause=breastcancer_postmenopause.drop(columns=[\"I don't know\"],axis=1)\n",
    "breastcancer_postmenopause.columns=['breastcancer_postmenopause_No','breastcancer_postmenopause_Yes']\n",
    "breastcancer_postmenopause.columns"
   ]
  },
  {
   "cell_type": "code",
   "execution_count": 11,
   "id": "cc8e730e-197f-4a61-9cf3-3de5b85840a1",
   "metadata": {},
   "outputs": [
    {
     "data": {
      "text/plain": [
       "Index(['breastcancer_familyhistory_No', 'breastcancer_familyhistory_Yes'], dtype='object')"
      ]
     },
     "execution_count": 11,
     "metadata": {},
     "output_type": "execute_result"
    }
   ],
   "source": [
    "breastcancer_familyhistory=pd.get_dummies(knowledge['Can breast cancer be developed without family history'])\n",
    "breastcancer_familyhistory=breastcancer_familyhistory.astype(int)\n",
    "breastcancer_familyhistory=breastcancer_familyhistory.drop(columns=[\"I don't know\"],axis=1)\n",
    "breastcancer_familyhistory.columns=['breastcancer_familyhistory_No','breastcancer_familyhistory_Yes']\n",
    "breastcancer_familyhistory.columns"
   ]
  },
  {
   "cell_type": "markdown",
   "id": "37c2e922-d021-4cbd-9bd2-fd39f64317ff",
   "metadata": {},
   "source": [
    "concatenating the responses"
   ]
  },
  {
   "cell_type": "code",
   "execution_count": 12,
   "id": "39387771-9fcf-432e-9760-151d83111b93",
   "metadata": {},
   "outputs": [
    {
     "data": {
      "text/html": [
       "<div>\n",
       "<style scoped>\n",
       "    .dataframe tbody tr th:only-of-type {\n",
       "        vertical-align: middle;\n",
       "    }\n",
       "\n",
       "    .dataframe tbody tr th {\n",
       "        vertical-align: top;\n",
       "    }\n",
       "\n",
       "    .dataframe thead th {\n",
       "        text-align: right;\n",
       "    }\n",
       "</style>\n",
       "<table border=\"1\" class=\"dataframe\">\n",
       "  <thead>\n",
       "    <tr style=\"text-align: right;\">\n",
       "      <th></th>\n",
       "      <th>most_commonfemalecancer_No</th>\n",
       "      <th>most_commonfemalecancer_Yes</th>\n",
       "      <th>breastcancer_knowledgelevel_Good</th>\n",
       "      <th>breastcancer_knowledgelevel_Poor</th>\n",
       "      <th>food_knowledge_No</th>\n",
       "      <th>food_knowledge_Yes</th>\n",
       "      <th>breastcancer_prevention_No</th>\n",
       "      <th>breastcancer_prevention_Yes</th>\n",
       "      <th>breastcancer_contagious_No</th>\n",
       "      <th>breastcancer_contagious_Yes</th>\n",
       "      <th>breastcancer_death_No</th>\n",
       "      <th>breastcancer_death_Yes</th>\n",
       "      <th>breastcancer_postmenopause_No</th>\n",
       "      <th>breastcancer_postmenopause_Yes</th>\n",
       "      <th>breastcancer_familyhistory_No</th>\n",
       "      <th>breastcancer_familyhistory_Yes</th>\n",
       "    </tr>\n",
       "  </thead>\n",
       "  <tbody>\n",
       "    <tr>\n",
       "      <th>0</th>\n",
       "      <td>0</td>\n",
       "      <td>1</td>\n",
       "      <td>0</td>\n",
       "      <td>1</td>\n",
       "      <td>1</td>\n",
       "      <td>0</td>\n",
       "      <td>0</td>\n",
       "      <td>1</td>\n",
       "      <td>1</td>\n",
       "      <td>0</td>\n",
       "      <td>0</td>\n",
       "      <td>1</td>\n",
       "      <td>0</td>\n",
       "      <td>1</td>\n",
       "      <td>0</td>\n",
       "      <td>1</td>\n",
       "    </tr>\n",
       "    <tr>\n",
       "      <th>1</th>\n",
       "      <td>0</td>\n",
       "      <td>1</td>\n",
       "      <td>1</td>\n",
       "      <td>0</td>\n",
       "      <td>1</td>\n",
       "      <td>0</td>\n",
       "      <td>0</td>\n",
       "      <td>1</td>\n",
       "      <td>1</td>\n",
       "      <td>0</td>\n",
       "      <td>1</td>\n",
       "      <td>0</td>\n",
       "      <td>1</td>\n",
       "      <td>0</td>\n",
       "      <td>0</td>\n",
       "      <td>1</td>\n",
       "    </tr>\n",
       "    <tr>\n",
       "      <th>2</th>\n",
       "      <td>0</td>\n",
       "      <td>1</td>\n",
       "      <td>0</td>\n",
       "      <td>1</td>\n",
       "      <td>0</td>\n",
       "      <td>0</td>\n",
       "      <td>0</td>\n",
       "      <td>1</td>\n",
       "      <td>1</td>\n",
       "      <td>0</td>\n",
       "      <td>0</td>\n",
       "      <td>1</td>\n",
       "      <td>0</td>\n",
       "      <td>1</td>\n",
       "      <td>0</td>\n",
       "      <td>1</td>\n",
       "    </tr>\n",
       "    <tr>\n",
       "      <th>3</th>\n",
       "      <td>1</td>\n",
       "      <td>0</td>\n",
       "      <td>0</td>\n",
       "      <td>1</td>\n",
       "      <td>0</td>\n",
       "      <td>0</td>\n",
       "      <td>0</td>\n",
       "      <td>1</td>\n",
       "      <td>1</td>\n",
       "      <td>0</td>\n",
       "      <td>1</td>\n",
       "      <td>0</td>\n",
       "      <td>1</td>\n",
       "      <td>0</td>\n",
       "      <td>0</td>\n",
       "      <td>1</td>\n",
       "    </tr>\n",
       "    <tr>\n",
       "      <th>4</th>\n",
       "      <td>0</td>\n",
       "      <td>1</td>\n",
       "      <td>0</td>\n",
       "      <td>1</td>\n",
       "      <td>0</td>\n",
       "      <td>0</td>\n",
       "      <td>0</td>\n",
       "      <td>1</td>\n",
       "      <td>1</td>\n",
       "      <td>0</td>\n",
       "      <td>1</td>\n",
       "      <td>0</td>\n",
       "      <td>1</td>\n",
       "      <td>0</td>\n",
       "      <td>0</td>\n",
       "      <td>1</td>\n",
       "    </tr>\n",
       "  </tbody>\n",
       "</table>\n",
       "</div>"
      ],
      "text/plain": [
       "   most_commonfemalecancer_No  most_commonfemalecancer_Yes  \\\n",
       "0                           0                            1   \n",
       "1                           0                            1   \n",
       "2                           0                            1   \n",
       "3                           1                            0   \n",
       "4                           0                            1   \n",
       "\n",
       "   breastcancer_knowledgelevel_Good  breastcancer_knowledgelevel_Poor  \\\n",
       "0                                 0                                 1   \n",
       "1                                 1                                 0   \n",
       "2                                 0                                 1   \n",
       "3                                 0                                 1   \n",
       "4                                 0                                 1   \n",
       "\n",
       "   food_knowledge_No  food_knowledge_Yes  breastcancer_prevention_No  \\\n",
       "0                  1                   0                           0   \n",
       "1                  1                   0                           0   \n",
       "2                  0                   0                           0   \n",
       "3                  0                   0                           0   \n",
       "4                  0                   0                           0   \n",
       "\n",
       "   breastcancer_prevention_Yes  breastcancer_contagious_No  \\\n",
       "0                            1                           1   \n",
       "1                            1                           1   \n",
       "2                            1                           1   \n",
       "3                            1                           1   \n",
       "4                            1                           1   \n",
       "\n",
       "   breastcancer_contagious_Yes  breastcancer_death_No  breastcancer_death_Yes  \\\n",
       "0                            0                      0                       1   \n",
       "1                            0                      1                       0   \n",
       "2                            0                      0                       1   \n",
       "3                            0                      1                       0   \n",
       "4                            0                      1                       0   \n",
       "\n",
       "   breastcancer_postmenopause_No  breastcancer_postmenopause_Yes  \\\n",
       "0                              0                               1   \n",
       "1                              1                               0   \n",
       "2                              0                               1   \n",
       "3                              1                               0   \n",
       "4                              1                               0   \n",
       "\n",
       "   breastcancer_familyhistory_No  breastcancer_familyhistory_Yes  \n",
       "0                              0                               1  \n",
       "1                              0                               1  \n",
       "2                              0                               1  \n",
       "3                              0                               1  \n",
       "4                              0                               1  "
      ]
     },
     "execution_count": 12,
     "metadata": {},
     "output_type": "execute_result"
    }
   ],
   "source": [
    "preseminal_overallknowledge=pd.concat([most_commonfemalecancer,breastcancer_knowledgelevel,food_knowledge,breastcancer_prevention,breastcancer_contagious,breastcancer_death,breastcancer_postmenopause,breastcancer_familyhistory], axis=1)\n",
    "preseminal_overallknowledge.head()"
   ]
  },
  {
   "cell_type": "code",
   "execution_count": 13,
   "id": "09303923-24c7-40a9-9377-7a6581c41b6a",
   "metadata": {},
   "outputs": [],
   "source": [
    "columns_with_no_as_correct = [\n",
    "    'breastcancer_death_No', \n",
    "    'breastcancer_contagious_No', \n",
    "    'breastcancer_postmenopause_No'\n",
    "]"
   ]
  },
  {
   "cell_type": "code",
   "execution_count": 14,
   "id": "695326a2-e03a-411a-b443-ecaabbb53fb6",
   "metadata": {},
   "outputs": [],
   "source": [
    "for column in columns_with_no_as_correct:\n",
    "    preseminal_overallknowledge[column] = preseminal_overallknowledge[column].replace({'Yes': 0, 'No': 1}).astype(int)"
   ]
  },
  {
   "cell_type": "code",
   "execution_count": 15,
   "id": "4a341f6b-dbe8-462e-9cf5-6cfaa836efd7",
   "metadata": {},
   "outputs": [
    {
     "data": {
      "text/html": [
       "<div>\n",
       "<style scoped>\n",
       "    .dataframe tbody tr th:only-of-type {\n",
       "        vertical-align: middle;\n",
       "    }\n",
       "\n",
       "    .dataframe tbody tr th {\n",
       "        vertical-align: top;\n",
       "    }\n",
       "\n",
       "    .dataframe thead th {\n",
       "        text-align: right;\n",
       "    }\n",
       "</style>\n",
       "<table border=\"1\" class=\"dataframe\">\n",
       "  <thead>\n",
       "    <tr style=\"text-align: right;\">\n",
       "      <th></th>\n",
       "      <th>breastcancer_death_No</th>\n",
       "      <th>breastcancer_contagious_No</th>\n",
       "      <th>breastcancer_postmenopause_No</th>\n",
       "    </tr>\n",
       "  </thead>\n",
       "  <tbody>\n",
       "    <tr>\n",
       "      <th>0</th>\n",
       "      <td>0</td>\n",
       "      <td>1</td>\n",
       "      <td>0</td>\n",
       "    </tr>\n",
       "    <tr>\n",
       "      <th>1</th>\n",
       "      <td>1</td>\n",
       "      <td>1</td>\n",
       "      <td>1</td>\n",
       "    </tr>\n",
       "    <tr>\n",
       "      <th>2</th>\n",
       "      <td>0</td>\n",
       "      <td>1</td>\n",
       "      <td>0</td>\n",
       "    </tr>\n",
       "    <tr>\n",
       "      <th>3</th>\n",
       "      <td>1</td>\n",
       "      <td>1</td>\n",
       "      <td>1</td>\n",
       "    </tr>\n",
       "    <tr>\n",
       "      <th>4</th>\n",
       "      <td>1</td>\n",
       "      <td>1</td>\n",
       "      <td>1</td>\n",
       "    </tr>\n",
       "  </tbody>\n",
       "</table>\n",
       "</div>"
      ],
      "text/plain": [
       "   breastcancer_death_No  breastcancer_contagious_No  \\\n",
       "0                      0                           1   \n",
       "1                      1                           1   \n",
       "2                      0                           1   \n",
       "3                      1                           1   \n",
       "4                      1                           1   \n",
       "\n",
       "   breastcancer_postmenopause_No  \n",
       "0                              0  \n",
       "1                              1  \n",
       "2                              0  \n",
       "3                              1  \n",
       "4                              1  "
      ]
     },
     "execution_count": 15,
     "metadata": {},
     "output_type": "execute_result"
    }
   ],
   "source": [
    "preseminal_overallknowledge[columns_with_no_as_correct].head()"
   ]
  },
  {
   "cell_type": "code",
   "execution_count": 16,
   "id": "6be948ed-8e72-4bd0-a946-b90577121299",
   "metadata": {},
   "outputs": [],
   "source": [
    "columns_for_score = [\n",
    "    'most_commonfemalecancer_Yes',\n",
    "    'breastcancer_knowledgelevel_Good',\n",
    "    'food_knowledge_Yes',\n",
    "    'breastcancer_prevention_Yes',\n",
    "    'breastcancer_contagious_No',  \n",
    "    'breastcancer_death_No',       \n",
    "    'breastcancer_postmenopause_No',  \n",
    "    'breastcancer_familyhistory_Yes'\n",
    "]"
   ]
  },
  {
   "cell_type": "markdown",
   "id": "7c78f1ac-f112-4c47-9564-ac3b15b45b42",
   "metadata": {},
   "source": [
    "Calculating the total score of each participant"
   ]
  },
  {
   "cell_type": "code",
   "execution_count": 17,
   "id": "28b2921c-126c-4fac-8ce8-456519753d4c",
   "metadata": {},
   "outputs": [],
   "source": [
    "preseminal_overallknowledge['total_knowledge_score'] = preseminal_overallknowledge[columns_for_score].sum(axis=1)"
   ]
  },
  {
   "cell_type": "code",
   "execution_count": 18,
   "id": "f45c9287-f350-4a2a-a799-be754a1a2e97",
   "metadata": {},
   "outputs": [
    {
     "data": {
      "text/html": [
       "<div>\n",
       "<style scoped>\n",
       "    .dataframe tbody tr th:only-of-type {\n",
       "        vertical-align: middle;\n",
       "    }\n",
       "\n",
       "    .dataframe tbody tr th {\n",
       "        vertical-align: top;\n",
       "    }\n",
       "\n",
       "    .dataframe thead th {\n",
       "        text-align: right;\n",
       "    }\n",
       "</style>\n",
       "<table border=\"1\" class=\"dataframe\">\n",
       "  <thead>\n",
       "    <tr style=\"text-align: right;\">\n",
       "      <th></th>\n",
       "      <th>total_knowledge_score</th>\n",
       "    </tr>\n",
       "  </thead>\n",
       "  <tbody>\n",
       "    <tr>\n",
       "      <th>0</th>\n",
       "      <td>4</td>\n",
       "    </tr>\n",
       "    <tr>\n",
       "      <th>1</th>\n",
       "      <td>7</td>\n",
       "    </tr>\n",
       "    <tr>\n",
       "      <th>2</th>\n",
       "      <td>4</td>\n",
       "    </tr>\n",
       "    <tr>\n",
       "      <th>3</th>\n",
       "      <td>5</td>\n",
       "    </tr>\n",
       "    <tr>\n",
       "      <th>4</th>\n",
       "      <td>6</td>\n",
       "    </tr>\n",
       "  </tbody>\n",
       "</table>\n",
       "</div>"
      ],
      "text/plain": [
       "   total_knowledge_score\n",
       "0                      4\n",
       "1                      7\n",
       "2                      4\n",
       "3                      5\n",
       "4                      6"
      ]
     },
     "execution_count": 18,
     "metadata": {},
     "output_type": "execute_result"
    }
   ],
   "source": [
    "preseminal_overallknowledge[['total_knowledge_score']].head()"
   ]
  },
  {
   "cell_type": "markdown",
   "id": "d30bbe55-f95d-482f-b6e2-f631a45c7556",
   "metadata": {},
   "source": [
    "Categorizing the Knowledge level of each participant"
   ]
  },
  {
   "cell_type": "code",
   "execution_count": 19,
   "id": "dbf84349-a73b-409a-a7a4-5c5f8f50daee",
   "metadata": {},
   "outputs": [],
   "source": [
    "def categorize_knowledge(score):\n",
    "    if score <= 3:\n",
    "        return \"Low\"\n",
    "    elif score <= 6:\n",
    "        return \"Moderate\"\n",
    "    else:\n",
    "        return \"High\""
   ]
  },
  {
   "cell_type": "code",
   "execution_count": 20,
   "id": "8f40c939-65ec-404d-b3f1-bf5cdad87b5e",
   "metadata": {},
   "outputs": [
    {
     "data": {
      "text/plain": [
       "0      Moderate\n",
       "1          High\n",
       "2      Moderate\n",
       "3      Moderate\n",
       "4      Moderate\n",
       "         ...   \n",
       "145        High\n",
       "146    Moderate\n",
       "147        High\n",
       "148    Moderate\n",
       "149        High\n",
       "Name: Knowledge_Level, Length: 150, dtype: object"
      ]
     },
     "execution_count": 20,
     "metadata": {},
     "output_type": "execute_result"
    }
   ],
   "source": [
    "preseminal_overallknowledge['Knowledge_Level'] = preseminal_overallknowledge['total_knowledge_score'].apply(categorize_knowledge)\n",
    "preseminal_overallknowledge['Knowledge_Level']"
   ]
  },
  {
   "cell_type": "code",
   "execution_count": 21,
   "id": "10c74ead-a55e-4081-a753-9f6bf0a160e1",
   "metadata": {},
   "outputs": [],
   "source": [
    "columns = ['Age','Marital status','Religious','Ethnicity','Faculty','level','Permanent residence','Family degree of breast cancer']"
   ]
  },
  {
   "cell_type": "markdown",
   "id": "23eeb26e-911b-49db-a4fb-e539540398e6",
   "metadata": {},
   "source": [
    "Concatenating the independent variables"
   ]
  },
  {
   "cell_type": "code",
   "execution_count": 22,
   "id": "80528e26-1f25-49e7-9315-932793607175",
   "metadata": {},
   "outputs": [
    {
     "data": {
      "text/html": [
       "<div>\n",
       "<style scoped>\n",
       "    .dataframe tbody tr th:only-of-type {\n",
       "        vertical-align: middle;\n",
       "    }\n",
       "\n",
       "    .dataframe tbody tr th {\n",
       "        vertical-align: top;\n",
       "    }\n",
       "\n",
       "    .dataframe thead th {\n",
       "        text-align: right;\n",
       "    }\n",
       "</style>\n",
       "<table border=\"1\" class=\"dataframe\">\n",
       "  <thead>\n",
       "    <tr style=\"text-align: right;\">\n",
       "      <th></th>\n",
       "      <th>Age</th>\n",
       "      <th>Marital status</th>\n",
       "      <th>Religious</th>\n",
       "      <th>Ethnicity</th>\n",
       "      <th>Faculty</th>\n",
       "      <th>level</th>\n",
       "      <th>Permanent residence</th>\n",
       "      <th>Family degree of breast cancer</th>\n",
       "    </tr>\n",
       "  </thead>\n",
       "  <tbody>\n",
       "    <tr>\n",
       "      <th>0</th>\n",
       "      <td>22</td>\n",
       "      <td>Single</td>\n",
       "      <td>Muslim</td>\n",
       "      <td>Yoruba</td>\n",
       "      <td>Agriculture</td>\n",
       "      <td>300</td>\n",
       "      <td>Rural</td>\n",
       "      <td>No family history</td>\n",
       "    </tr>\n",
       "    <tr>\n",
       "      <th>1</th>\n",
       "      <td>19</td>\n",
       "      <td>Single</td>\n",
       "      <td>Muslim</td>\n",
       "      <td>Yoruba</td>\n",
       "      <td>Agriculture</td>\n",
       "      <td>300</td>\n",
       "      <td>Urban</td>\n",
       "      <td>No family history</td>\n",
       "    </tr>\n",
       "    <tr>\n",
       "      <th>2</th>\n",
       "      <td>20</td>\n",
       "      <td>Single</td>\n",
       "      <td>Christian</td>\n",
       "      <td>Yoruba</td>\n",
       "      <td>Agriculture</td>\n",
       "      <td>200</td>\n",
       "      <td>Rural</td>\n",
       "      <td>No family history</td>\n",
       "    </tr>\n",
       "    <tr>\n",
       "      <th>3</th>\n",
       "      <td>22</td>\n",
       "      <td>Others</td>\n",
       "      <td>Christian</td>\n",
       "      <td>Yoruba</td>\n",
       "      <td>Agriculture</td>\n",
       "      <td>300</td>\n",
       "      <td>Urban</td>\n",
       "      <td>No family history</td>\n",
       "    </tr>\n",
       "    <tr>\n",
       "      <th>4</th>\n",
       "      <td>21</td>\n",
       "      <td>Single</td>\n",
       "      <td>Christian</td>\n",
       "      <td>Yoruba</td>\n",
       "      <td>Agriculture</td>\n",
       "      <td>300</td>\n",
       "      <td>Urban</td>\n",
       "      <td>No family history</td>\n",
       "    </tr>\n",
       "    <tr>\n",
       "      <th>...</th>\n",
       "      <td>...</td>\n",
       "      <td>...</td>\n",
       "      <td>...</td>\n",
       "      <td>...</td>\n",
       "      <td>...</td>\n",
       "      <td>...</td>\n",
       "      <td>...</td>\n",
       "      <td>...</td>\n",
       "    </tr>\n",
       "    <tr>\n",
       "      <th>145</th>\n",
       "      <td>23</td>\n",
       "      <td>Single</td>\n",
       "      <td>Christian</td>\n",
       "      <td>Yoruba</td>\n",
       "      <td>Science</td>\n",
       "      <td>300</td>\n",
       "      <td>Urban</td>\n",
       "      <td>No family history</td>\n",
       "    </tr>\n",
       "    <tr>\n",
       "      <th>146</th>\n",
       "      <td>22</td>\n",
       "      <td>Single</td>\n",
       "      <td>Christian</td>\n",
       "      <td>Yoruba</td>\n",
       "      <td>Science</td>\n",
       "      <td>300</td>\n",
       "      <td>Urban</td>\n",
       "      <td>No family history</td>\n",
       "    </tr>\n",
       "    <tr>\n",
       "      <th>147</th>\n",
       "      <td>21</td>\n",
       "      <td>Single</td>\n",
       "      <td>Christian</td>\n",
       "      <td>Yoruba</td>\n",
       "      <td>Science</td>\n",
       "      <td>300</td>\n",
       "      <td>Urban</td>\n",
       "      <td>No family history</td>\n",
       "    </tr>\n",
       "    <tr>\n",
       "      <th>148</th>\n",
       "      <td>20</td>\n",
       "      <td>Single</td>\n",
       "      <td>Christian</td>\n",
       "      <td>Yoruba</td>\n",
       "      <td>Science</td>\n",
       "      <td>300</td>\n",
       "      <td>Rural</td>\n",
       "      <td>No family history</td>\n",
       "    </tr>\n",
       "    <tr>\n",
       "      <th>149</th>\n",
       "      <td>25</td>\n",
       "      <td>Single</td>\n",
       "      <td>Christian</td>\n",
       "      <td>Yoruba</td>\n",
       "      <td>Science</td>\n",
       "      <td>300</td>\n",
       "      <td>Urban</td>\n",
       "      <td>No family history</td>\n",
       "    </tr>\n",
       "  </tbody>\n",
       "</table>\n",
       "<p>150 rows × 8 columns</p>\n",
       "</div>"
      ],
      "text/plain": [
       "     Age Marital status   Religious Ethnicity      Faculty  level  \\\n",
       "0     22         Single      Muslim    Yoruba  Agriculture    300   \n",
       "1     19         Single      Muslim    Yoruba  Agriculture    300   \n",
       "2     20         Single   Christian    Yoruba  Agriculture    200   \n",
       "3     22         Others   Christian    Yoruba  Agriculture    300   \n",
       "4     21         Single   Christian    Yoruba  Agriculture    300   \n",
       "..   ...            ...         ...       ...          ...    ...   \n",
       "145   23         Single   Christian    Yoruba      Science    300   \n",
       "146   22         Single   Christian    Yoruba      Science    300   \n",
       "147   21         Single   Christian    Yoruba      Science    300   \n",
       "148   20         Single   Christian    Yoruba      Science    300   \n",
       "149   25         Single   Christian    Yoruba      Science    300   \n",
       "\n",
       "    Permanent residence Family degree of breast cancer  \n",
       "0                 Rural              No family history  \n",
       "1                 Urban              No family history  \n",
       "2                 Rural              No family history  \n",
       "3                 Urban              No family history  \n",
       "4                 Urban              No family history  \n",
       "..                  ...                            ...  \n",
       "145               Urban              No family history  \n",
       "146               Urban              No family history  \n",
       "147               Urban              No family history  \n",
       "148               Rural              No family history  \n",
       "149               Urban              No family history  \n",
       "\n",
       "[150 rows x 8 columns]"
      ]
     },
     "execution_count": 22,
     "metadata": {},
     "output_type": "execute_result"
    }
   ],
   "source": [
    "independent_variables = pd.concat([knowledge[col] for col in columns], axis=1)\n",
    "independent_variables"
   ]
  },
  {
   "cell_type": "markdown",
   "id": "34c49c3c-18eb-42cd-a825-bd9493e7ea8f",
   "metadata": {},
   "source": [
    "concatenating the independent and dependent variables to calculate the Chi-square"
   ]
  },
  {
   "cell_type": "code",
   "execution_count": 23,
   "id": "22b991af-85e6-49d6-b46d-8d296540a743",
   "metadata": {},
   "outputs": [
    {
     "data": {
      "text/html": [
       "<div>\n",
       "<style scoped>\n",
       "    .dataframe tbody tr th:only-of-type {\n",
       "        vertical-align: middle;\n",
       "    }\n",
       "\n",
       "    .dataframe tbody tr th {\n",
       "        vertical-align: top;\n",
       "    }\n",
       "\n",
       "    .dataframe thead th {\n",
       "        text-align: right;\n",
       "    }\n",
       "</style>\n",
       "<table border=\"1\" class=\"dataframe\">\n",
       "  <thead>\n",
       "    <tr style=\"text-align: right;\">\n",
       "      <th></th>\n",
       "      <th>Age</th>\n",
       "      <th>Marital status</th>\n",
       "      <th>Religious</th>\n",
       "      <th>Ethnicity</th>\n",
       "      <th>Faculty</th>\n",
       "      <th>level</th>\n",
       "      <th>Permanent residence</th>\n",
       "      <th>Family degree of breast cancer</th>\n",
       "      <th>Knowledge_Level</th>\n",
       "    </tr>\n",
       "  </thead>\n",
       "  <tbody>\n",
       "    <tr>\n",
       "      <th>0</th>\n",
       "      <td>22</td>\n",
       "      <td>Single</td>\n",
       "      <td>Muslim</td>\n",
       "      <td>Yoruba</td>\n",
       "      <td>Agriculture</td>\n",
       "      <td>300</td>\n",
       "      <td>Rural</td>\n",
       "      <td>No family history</td>\n",
       "      <td>Moderate</td>\n",
       "    </tr>\n",
       "    <tr>\n",
       "      <th>1</th>\n",
       "      <td>19</td>\n",
       "      <td>Single</td>\n",
       "      <td>Muslim</td>\n",
       "      <td>Yoruba</td>\n",
       "      <td>Agriculture</td>\n",
       "      <td>300</td>\n",
       "      <td>Urban</td>\n",
       "      <td>No family history</td>\n",
       "      <td>High</td>\n",
       "    </tr>\n",
       "    <tr>\n",
       "      <th>2</th>\n",
       "      <td>20</td>\n",
       "      <td>Single</td>\n",
       "      <td>Christian</td>\n",
       "      <td>Yoruba</td>\n",
       "      <td>Agriculture</td>\n",
       "      <td>200</td>\n",
       "      <td>Rural</td>\n",
       "      <td>No family history</td>\n",
       "      <td>Moderate</td>\n",
       "    </tr>\n",
       "    <tr>\n",
       "      <th>3</th>\n",
       "      <td>22</td>\n",
       "      <td>Others</td>\n",
       "      <td>Christian</td>\n",
       "      <td>Yoruba</td>\n",
       "      <td>Agriculture</td>\n",
       "      <td>300</td>\n",
       "      <td>Urban</td>\n",
       "      <td>No family history</td>\n",
       "      <td>Moderate</td>\n",
       "    </tr>\n",
       "    <tr>\n",
       "      <th>4</th>\n",
       "      <td>21</td>\n",
       "      <td>Single</td>\n",
       "      <td>Christian</td>\n",
       "      <td>Yoruba</td>\n",
       "      <td>Agriculture</td>\n",
       "      <td>300</td>\n",
       "      <td>Urban</td>\n",
       "      <td>No family history</td>\n",
       "      <td>Moderate</td>\n",
       "    </tr>\n",
       "    <tr>\n",
       "      <th>...</th>\n",
       "      <td>...</td>\n",
       "      <td>...</td>\n",
       "      <td>...</td>\n",
       "      <td>...</td>\n",
       "      <td>...</td>\n",
       "      <td>...</td>\n",
       "      <td>...</td>\n",
       "      <td>...</td>\n",
       "      <td>...</td>\n",
       "    </tr>\n",
       "    <tr>\n",
       "      <th>145</th>\n",
       "      <td>23</td>\n",
       "      <td>Single</td>\n",
       "      <td>Christian</td>\n",
       "      <td>Yoruba</td>\n",
       "      <td>Science</td>\n",
       "      <td>300</td>\n",
       "      <td>Urban</td>\n",
       "      <td>No family history</td>\n",
       "      <td>High</td>\n",
       "    </tr>\n",
       "    <tr>\n",
       "      <th>146</th>\n",
       "      <td>22</td>\n",
       "      <td>Single</td>\n",
       "      <td>Christian</td>\n",
       "      <td>Yoruba</td>\n",
       "      <td>Science</td>\n",
       "      <td>300</td>\n",
       "      <td>Urban</td>\n",
       "      <td>No family history</td>\n",
       "      <td>Moderate</td>\n",
       "    </tr>\n",
       "    <tr>\n",
       "      <th>147</th>\n",
       "      <td>21</td>\n",
       "      <td>Single</td>\n",
       "      <td>Christian</td>\n",
       "      <td>Yoruba</td>\n",
       "      <td>Science</td>\n",
       "      <td>300</td>\n",
       "      <td>Urban</td>\n",
       "      <td>No family history</td>\n",
       "      <td>High</td>\n",
       "    </tr>\n",
       "    <tr>\n",
       "      <th>148</th>\n",
       "      <td>20</td>\n",
       "      <td>Single</td>\n",
       "      <td>Christian</td>\n",
       "      <td>Yoruba</td>\n",
       "      <td>Science</td>\n",
       "      <td>300</td>\n",
       "      <td>Rural</td>\n",
       "      <td>No family history</td>\n",
       "      <td>Moderate</td>\n",
       "    </tr>\n",
       "    <tr>\n",
       "      <th>149</th>\n",
       "      <td>25</td>\n",
       "      <td>Single</td>\n",
       "      <td>Christian</td>\n",
       "      <td>Yoruba</td>\n",
       "      <td>Science</td>\n",
       "      <td>300</td>\n",
       "      <td>Urban</td>\n",
       "      <td>No family history</td>\n",
       "      <td>High</td>\n",
       "    </tr>\n",
       "  </tbody>\n",
       "</table>\n",
       "<p>150 rows × 9 columns</p>\n",
       "</div>"
      ],
      "text/plain": [
       "     Age Marital status   Religious Ethnicity      Faculty  level  \\\n",
       "0     22         Single      Muslim    Yoruba  Agriculture    300   \n",
       "1     19         Single      Muslim    Yoruba  Agriculture    300   \n",
       "2     20         Single   Christian    Yoruba  Agriculture    200   \n",
       "3     22         Others   Christian    Yoruba  Agriculture    300   \n",
       "4     21         Single   Christian    Yoruba  Agriculture    300   \n",
       "..   ...            ...         ...       ...          ...    ...   \n",
       "145   23         Single   Christian    Yoruba      Science    300   \n",
       "146   22         Single   Christian    Yoruba      Science    300   \n",
       "147   21         Single   Christian    Yoruba      Science    300   \n",
       "148   20         Single   Christian    Yoruba      Science    300   \n",
       "149   25         Single   Christian    Yoruba      Science    300   \n",
       "\n",
       "    Permanent residence Family degree of breast cancer Knowledge_Level  \n",
       "0                 Rural              No family history        Moderate  \n",
       "1                 Urban              No family history            High  \n",
       "2                 Rural              No family history        Moderate  \n",
       "3                 Urban              No family history        Moderate  \n",
       "4                 Urban              No family history        Moderate  \n",
       "..                  ...                            ...             ...  \n",
       "145               Urban              No family history            High  \n",
       "146               Urban              No family history        Moderate  \n",
       "147               Urban              No family history            High  \n",
       "148               Rural              No family history        Moderate  \n",
       "149               Urban              No family history            High  \n",
       "\n",
       "[150 rows x 9 columns]"
      ]
     },
     "execution_count": 23,
     "metadata": {},
     "output_type": "execute_result"
    }
   ],
   "source": [
    "final_data = pd.concat([independent_variables, preseminal_overallknowledge['Knowledge_Level']], axis=1)\n",
    "final_data"
   ]
  },
  {
   "cell_type": "code",
   "execution_count": 24,
   "id": "30f2b65b-176b-4e92-86e3-1d9974f8d66d",
   "metadata": {},
   "outputs": [],
   "source": [
    "from scipy.stats import chi2_contingency"
   ]
  },
  {
   "cell_type": "code",
   "execution_count": 25,
   "id": "25157df2-e827-483a-b0ac-2ae5ea5eca7f",
   "metadata": {},
   "outputs": [],
   "source": [
    "for column in independent_variables.columns:\n",
    "    association_data = pd.crosstab(independent_variables[column], preseminal_overallknowledge['Knowledge_Level'])"
   ]
  },
  {
   "cell_type": "code",
   "execution_count": 26,
   "id": "f051f8e2-d3e3-4754-b4b1-5dc78960d535",
   "metadata": {},
   "outputs": [],
   "source": [
    "chi2, p, dof, expected = chi2_contingency(association_data)"
   ]
  },
  {
   "cell_type": "code",
   "execution_count": 27,
   "id": "298dfa4f-2858-4c5f-b663-202308a44826",
   "metadata": {},
   "outputs": [
    {
     "name": "stdout",
     "output_type": "stream",
     "text": [
      "Chi-square results for Family degree of breast cancer:\n",
      "Chi-square statistic: 5.231918238993711\n",
      "P-value: 0.2643180985336442\n",
      "Degrees of freedom: 4\n",
      "Expected frequencies: \n",
      "[[  0.68   0.2    2.12]\n",
      " [ 32.64   9.6  101.76]\n",
      " [  0.68   0.2    2.12]]\n"
     ]
    }
   ],
   "source": [
    "print(f\"Chi-square results for {column}:\")\n",
    "print(f\"Chi-square statistic: {chi2}\")\n",
    "print(f\"P-value: {p}\")\n",
    "print(f\"Degrees of freedom: {dof}\")\n",
    "print(f\"Expected frequencies: \\n{expected}\")"
   ]
  },
  {
   "cell_type": "code",
   "execution_count": 28,
   "id": "efb83745-753c-4927-8018-e38ae51ddf3f",
   "metadata": {},
   "outputs": [
    {
     "name": "stdout",
     "output_type": "stream",
     "text": [
      "Fail to reject the null hypothesis: There is no significant relationship between the variables.\n",
      "\n"
     ]
    }
   ],
   "source": [
    "alpha = 0.05\n",
    "if p < alpha:\n",
    "    print(\"Reject the null hypothesis: There is a significant relationship between the variables.\\n\")\n",
    "else:\n",
    "    print(\"Fail to reject the null hypothesis: There is no significant relationship between the variables.\\n\")"
   ]
  },
  {
   "cell_type": "code",
   "execution_count": 29,
   "id": "f0598e2c-ad07-4778-b461-cf33a801ecd3",
   "metadata": {},
   "outputs": [],
   "source": [
    "association_data_age = pd.crosstab(independent_variables['Age'], preseminal_overallknowledge['Knowledge_Level'])\n",
    "chi2_age, p_age, dof_age, expected_age = chi2_contingency(association_data_age)"
   ]
  },
  {
   "cell_type": "code",
   "execution_count": 30,
   "id": "07eccc7f-103a-4ba2-85c3-5af3bf525427",
   "metadata": {},
   "outputs": [
    {
     "name": "stdout",
     "output_type": "stream",
     "text": [
      "Chi-Square results for Age:\n",
      "Chi-square statistic: 12.956176693643577\n",
      "P-value: 0.794169861335636\n",
      "Degrees of freedom: 18\n",
      "Expected frequencies: \n",
      "[[ 0.45333333  0.13333333  1.41333333]\n",
      " [ 1.81333333  0.53333333  5.65333333]\n",
      " [ 4.76        1.4        14.84      ]\n",
      " [ 7.25333333  2.13333333 22.61333333]\n",
      " [ 7.02666667  2.06666667 21.90666667]\n",
      " [ 6.12        1.8        19.08      ]\n",
      " [ 3.62666667  1.06666667 11.30666667]\n",
      " [ 2.26666667  0.66666667  7.06666667]\n",
      " [ 0.22666667  0.06666667  0.70666667]\n",
      " [ 0.45333333  0.13333333  1.41333333]]\n"
     ]
    }
   ],
   "source": [
    "print(f\"Chi-Square results for Age:\")\n",
    "print(f\"Chi-square statistic: {chi2_age}\")\n",
    "print(f\"P-value: {p_age}\")\n",
    "print(f\"Degrees of freedom: {dof_age}\")\n",
    "print(f\"Expected frequencies: \\n{expected_age}\")"
   ]
  },
  {
   "cell_type": "code",
   "execution_count": 31,
   "id": "c86c95c9-2765-4acd-ada0-c34c5bf995ff",
   "metadata": {},
   "outputs": [
    {
     "name": "stdout",
     "output_type": "stream",
     "text": [
      "Fail to reject the null hypothesis: There is no significant relationship between the variables.\n",
      "\n"
     ]
    }
   ],
   "source": [
    "alpha = 0.05\n",
    "if p < alpha:\n",
    "    print(\"Reject the null hypothesis: There is a significant relationship between the variables.\\n\")\n",
    "else:\n",
    "    print(\"Fail to reject the null hypothesis: There is no significant relationship between the variables.\\n\")"
   ]
  },
  {
   "cell_type": "code",
   "execution_count": 32,
   "id": "e8210467-85f8-44ea-9c92-5f692b2ebade",
   "metadata": {},
   "outputs": [],
   "source": [
    "association_data_marital = pd.crosstab(independent_variables['Marital status'], preseminal_overallknowledge['Knowledge_Level'])\n",
    "chi2_marital, p_marital, dof_marital, expected_marital = chi2_contingency(association_data_marital)"
   ]
  },
  {
   "cell_type": "code",
   "execution_count": 33,
   "id": "4ae9615d-9a3f-464f-ae51-5164c42129e1",
   "metadata": {},
   "outputs": [
    {
     "name": "stdout",
     "output_type": "stream",
     "text": [
      "Chi-Square results for Marital status:\n",
      "Chi-square statistic: 5.042571191294831\n",
      "P-value: 0.28295725173743835\n",
      "Degrees of freedom: 4\n",
      "Expected frequencies: \n",
      "[[  0.68         0.2          2.12      ]\n",
      " [  0.90666667   0.26666667   2.82666667]\n",
      " [ 32.41333333   9.53333333 101.05333333]]\n"
     ]
    }
   ],
   "source": [
    "print(f\"Chi-Square results for Marital status:\")\n",
    "print(f\"Chi-square statistic: {chi2_marital}\")\n",
    "print(f\"P-value: {p_marital}\")\n",
    "print(f\"Degrees of freedom: {dof_marital}\")\n",
    "print(f\"Expected frequencies: \\n{expected_marital}\")"
   ]
  },
  {
   "cell_type": "code",
   "execution_count": 34,
   "id": "0aedd3b7-4564-4e62-a0c2-19c2e9c5feec",
   "metadata": {},
   "outputs": [
    {
     "name": "stdout",
     "output_type": "stream",
     "text": [
      "Fail to reject the null hypothesis: There is no significant relationship between the variables.\n",
      "\n"
     ]
    }
   ],
   "source": [
    "alpha = 0.05\n",
    "if p < alpha:\n",
    "    print(\"Reject the null hypothesis: There is a significant relationship between the variables.\\n\")\n",
    "else:\n",
    "    print(\"Fail to reject the null hypothesis: There is no significant relationship between the variables.\\n\")"
   ]
  },
  {
   "cell_type": "code",
   "execution_count": 35,
   "id": "df0ef0fd-8c93-47e0-b886-7b7e87b7d46e",
   "metadata": {},
   "outputs": [],
   "source": [
    "association_data_religious = pd.crosstab(independent_variables['Religious'], preseminal_overallknowledge['Knowledge_Level'])\n",
    "chi2_religious, p_religious, dof_religious, expected_religious = chi2_contingency(association_data_religious)"
   ]
  },
  {
   "cell_type": "code",
   "execution_count": 36,
   "id": "c0c25c28-5a3b-4971-8712-34fea71aaa73",
   "metadata": {},
   "outputs": [
    {
     "name": "stdout",
     "output_type": "stream",
     "text": [
      "Chi-Square results for Religious:\n",
      "Chi-square statistic: 1.284642271439694\n",
      "P-value: 0.5260699261034831\n",
      "Degrees of freedom: 2\n",
      "Expected frequencies: \n",
      "[[30.37333333  8.93333333 94.69333333]\n",
      " [ 3.62666667  1.06666667 11.30666667]]\n"
     ]
    }
   ],
   "source": [
    "print(f\"Chi-Square results for Religious:\")\n",
    "print(f\"Chi-square statistic: {chi2_religious}\")\n",
    "print(f\"P-value: {p_religious}\")\n",
    "print(f\"Degrees of freedom: {dof_religious}\")\n",
    "print(f\"Expected frequencies: \\n{expected_religious}\")"
   ]
  },
  {
   "cell_type": "code",
   "execution_count": 37,
   "id": "c43edba7-e762-4588-960a-e72e8b499fc3",
   "metadata": {},
   "outputs": [
    {
     "name": "stdout",
     "output_type": "stream",
     "text": [
      "Fail to reject the null hypothesis: There is no significant relationship between the variables.\n",
      "\n"
     ]
    }
   ],
   "source": [
    "alpha = 0.05\n",
    "if p < alpha:\n",
    "    print(\"Reject the null hypothesis: There is a significant relationship between the variables.\\n\")\n",
    "else:\n",
    "    print(\"Fail to reject the null hypothesis: There is no significant relationship between the variables.\\n\")"
   ]
  },
  {
   "cell_type": "code",
   "execution_count": 38,
   "id": "66d68e04-3fa4-4e8f-92a6-9b2f7ea0372a",
   "metadata": {},
   "outputs": [],
   "source": [
    "association_data_ethnicity = pd.crosstab(independent_variables['Ethnicity'], preseminal_overallknowledge['Knowledge_Level'])\n",
    "chi2_ethnicity, p_ethnicity, dof_ethnicity, expected_ethnicity = chi2_contingency(association_data_ethnicity)"
   ]
  },
  {
   "cell_type": "code",
   "execution_count": 39,
   "id": "12f73453-a57f-4eb6-866d-3d4bf4e2dc15",
   "metadata": {},
   "outputs": [
    {
     "name": "stdout",
     "output_type": "stream",
     "text": [
      "Chi-Square results for Ethnicity:\n",
      "Chi-square statistic: 7.089776791219632\n",
      "P-value: 0.3126244848253247\n",
      "Degrees of freedom: 6\n",
      "Expected frequencies: \n",
      "[[ 0.45333333  0.13333333  1.41333333]\n",
      " [ 1.58666667  0.46666667  4.94666667]\n",
      " [ 1.36        0.4         4.24      ]\n",
      " [30.6         9.         95.4       ]]\n"
     ]
    }
   ],
   "source": [
    "print(f\"Chi-Square results for Ethnicity:\")\n",
    "print(f\"Chi-square statistic: {chi2_ethnicity}\")\n",
    "print(f\"P-value: {p_ethnicity}\")\n",
    "print(f\"Degrees of freedom: {dof_ethnicity}\")\n",
    "print(f\"Expected frequencies: \\n{expected_ethnicity}\")"
   ]
  },
  {
   "cell_type": "code",
   "execution_count": 40,
   "id": "7dc2a726-d9c9-4a2f-8e3b-bde9990ff2b6",
   "metadata": {},
   "outputs": [
    {
     "name": "stdout",
     "output_type": "stream",
     "text": [
      "Fail to reject the null hypothesis: There is no significant relationship between the variables.\n",
      "\n"
     ]
    }
   ],
   "source": [
    "alpha = 0.05\n",
    "if p < alpha:\n",
    "    print(\"Reject the null hypothesis: There is a significant relationship between the variables.\\n\")\n",
    "else:\n",
    "    print(\"Fail to reject the null hypothesis: There is no significant relationship between the variables.\\n\")"
   ]
  },
  {
   "cell_type": "code",
   "execution_count": 41,
   "id": "095ce8dd-3698-4f96-9119-6a2c8213a38b",
   "metadata": {},
   "outputs": [],
   "source": [
    "association_data_faculty = pd.crosstab(independent_variables['Faculty'], preseminal_overallknowledge['Knowledge_Level'])\n",
    "chi2_faculty, p_faculty, dof_faculty, expected_faculty = chi2_contingency(association_data_faculty)"
   ]
  },
  {
   "cell_type": "code",
   "execution_count": 42,
   "id": "51343ec8-8579-404f-982b-852790c0bf4a",
   "metadata": {},
   "outputs": [
    {
     "name": "stdout",
     "output_type": "stream",
     "text": [
      "Chi-Square results for Faculty:\n",
      "Chi-square statistic: 0.43844581857900367\n",
      "P-value: 0.8031426702366549\n",
      "Degrees of freedom: 2\n",
      "Expected frequencies: \n",
      "[[ 9.52  2.8  29.68]\n",
      " [24.48  7.2  76.32]]\n"
     ]
    }
   ],
   "source": [
    "print(f\"Chi-Square results for Faculty:\")\n",
    "print(f\"Chi-square statistic: {chi2_faculty}\")\n",
    "print(f\"P-value: {p_faculty}\")\n",
    "print(f\"Degrees of freedom: {dof_faculty}\")\n",
    "print(f\"Expected frequencies: \\n{expected_faculty}\")"
   ]
  },
  {
   "cell_type": "code",
   "execution_count": 43,
   "id": "7fb34228-cc4d-47ac-880d-d95b491352c5",
   "metadata": {},
   "outputs": [
    {
     "name": "stdout",
     "output_type": "stream",
     "text": [
      "Fail to reject the null hypothesis: There is no significant relationship between the variables.\n",
      "\n"
     ]
    }
   ],
   "source": [
    "alpha = 0.05\n",
    "if p < alpha:\n",
    "    print(\"Reject the null hypothesis: There is a significant relationship between the variables.\\n\")\n",
    "else:\n",
    "    print(\"Fail to reject the null hypothesis: There is no significant relationship between the variables.\\n\")"
   ]
  },
  {
   "cell_type": "code",
   "execution_count": 44,
   "id": "0643b0da-9666-4b1f-80dd-182055ec2f57",
   "metadata": {},
   "outputs": [],
   "source": [
    "association_data_residence = pd.crosstab(independent_variables['Permanent residence'], preseminal_overallknowledge['Knowledge_Level'])\n",
    "chi2_residence, p_residence, dof_residence, expected_residence = chi2_contingency(association_data_residence)"
   ]
  },
  {
   "cell_type": "code",
   "execution_count": 45,
   "id": "b7c7f8ae-3ab3-4149-bfc9-7ddda694f7c5",
   "metadata": {},
   "outputs": [
    {
     "name": "stdout",
     "output_type": "stream",
     "text": [
      "Chi-Square results for Permanent residence:\n",
      "Chi-square statistic: 0.23103187816006907\n",
      "P-value: 0.8909063718959433\n",
      "Degrees of freedom: 2\n",
      "Expected frequencies: \n",
      "[[12.24  3.6  38.16]\n",
      " [21.76  6.4  67.84]]\n"
     ]
    }
   ],
   "source": [
    "print(f\"Chi-Square results for Permanent residence:\")\n",
    "print(f\"Chi-square statistic: {chi2_residence}\")\n",
    "print(f\"P-value: {p_residence}\")\n",
    "print(f\"Degrees of freedom: {dof_residence}\")\n",
    "print(f\"Expected frequencies: \\n{expected_residence}\")"
   ]
  },
  {
   "cell_type": "code",
   "execution_count": 46,
   "id": "4d85e56a-7db8-4bc6-b382-b9eb1731f4a9",
   "metadata": {},
   "outputs": [
    {
     "name": "stdout",
     "output_type": "stream",
     "text": [
      "Fail to reject the null hypothesis: There is no significant relationship between the variables.\n",
      "\n"
     ]
    }
   ],
   "source": [
    "alpha = 0.05\n",
    "if p < alpha:\n",
    "    print(\"Reject the null hypothesis: There is a significant relationship between the variables.\\n\")\n",
    "else:\n",
    "    print(\"Fail to reject the null hypothesis: There is no significant relationship between the variables.\\n\")"
   ]
  },
  {
   "cell_type": "code",
   "execution_count": 47,
   "id": "7d03410b-76fb-4dce-8fe9-64420bc38418",
   "metadata": {},
   "outputs": [],
   "source": [
    "import matplotlib.pyplot as plt"
   ]
  },
  {
   "cell_type": "markdown",
   "id": "8ea17e76-e765-4479-91ac-e32c21674f92",
   "metadata": {},
   "source": [
    "Counting the knowledge level of the participants"
   ]
  },
  {
   "cell_type": "code",
   "execution_count": 48,
   "id": "3fd60a50-7068-4fc9-8405-975698bb2d54",
   "metadata": {},
   "outputs": [
    {
     "data": {
      "text/plain": [
       "Knowledge_Level\n",
       "Moderate    106\n",
       "High         34\n",
       "Low          10\n",
       "Name: count, dtype: int64"
      ]
     },
     "execution_count": 48,
     "metadata": {},
     "output_type": "execute_result"
    }
   ],
   "source": [
    "overall_knowledge_breastcancer_prevention=preseminal_overallknowledge['Knowledge_Level'].value_counts()\n",
    "overall_knowledge_breastcancer_prevention"
   ]
  },
  {
   "cell_type": "code",
   "execution_count": 49,
   "id": "bf5099fb-ad0b-4631-a600-1d5bd324c6ea",
   "metadata": {},
   "outputs": [
    {
     "data": {
      "image/png": "[encoded data removed]",
      "text/plain": [
       "<Figure size 800x500 with 1 Axes>"
      ]
     },
     "metadata": {},
     "output_type": "display_data"
    }
   ],
   "source": [
    "plt.figure(figsize=(8, 5))\n",
    "overall_knowledge_breastcancer_prevention.plot(kind='bar', color='skyblue', edgecolor='black')\n",
    "plt.title('Overall Distribution of Knowledge Level on Breast Cancer Prevention', fontsize=14)\n",
    "plt.xlabel('Knowledge Level', fontsize=12)\n",
    "plt.ylabel('Count', fontsize=12)\n",
    "plt.xticks(rotation=0) \n",
    "plt.grid(axis='y', linestyle='--', alpha=0.7)"
   ]
  },
  {
   "cell_type": "code",
   "execution_count": 50,
   "id": "a29d57e7-2ce0-40bf-9722-84b23e997a75",
   "metadata": {},
   "outputs": [
    {
     "data": {
      "text/plain": [
       "Knowledge_level_of_breastcancer_risk_factors\n",
       "Poor       114\n",
       "Good        29\n",
       "Average      7\n",
       "Name: count, dtype: int64"
      ]
     },
     "execution_count": 50,
     "metadata": {},
     "output_type": "execute_result"
    }
   ],
   "source": [
    "value_counts=knowledge['Knowledge_level_of_breastcancer_risk_factors'].value_counts()\n",
    "value_counts"
   ]
  },
  {
   "cell_type": "code",
   "execution_count": 51,
   "id": "4696c20a-7035-4acb-bf8c-c11850c0da79",
   "metadata": {},
   "outputs": [
    {
     "data": {
      "image/png": "[encoded data removed]",
      "text/plain": [
       "<Figure size 1000x800 with 1 Axes>"
      ]
     },
     "metadata": {},
     "output_type": "display_data"
    }
   ],
   "source": [
    "plt.figure(figsize=(10, 8))\n",
    "value_counts.plot(kind='bar', color='red',edgecolor='blue')\n",
    "plt.title('knowledge Distribution of Breast Cancer Risk Factors')\n",
    "plt.xlabel('Knowledge_level_of_breastcancer_risk_factors')\n",
    "plt.ylabel('Count')\n",
    "plt.xticks(rotation=0)\n",
    "plt.grid(axis='y',linestyle='--', alpha=0.7)\n",
    "plt.show()"
   ]
  },
  {
   "cell_type": "markdown",
   "id": "9574c548-f4c2-4eb1-ab84-9cf6a850df7c",
   "metadata": {},
   "source": [
    "Conclusion\n",
    "The participants demonstrated overall moderate knowledge about breast cancer prevention, although their knowledge of the risk factors associated with breast cancer was relatively poor. Based on the Chi-square test results, with a p-value greater than 0.05, there is no statistically significant association between knowledge about breast cancer prevention and the factors tested (such as age, marital status, family history, etc.). Therefore, we fail to reject the null hypothesis, suggesting that these factors may not be strongly related to knowledge about breast cancer prevention in the population studied."
   ]
  }
 ],
 "metadata": {
  "kernelspec": {
   "display_name": "Python 3 (ipykernel)",
   "language": "python",
   "name": "python3"
  },
  "language_info": {
   "codemirror_mode": {
    "name": "ipython",
    "version": 3
   },
   "file_extension": ".py",
   "mimetype": "text/x-python",
   "name": "python",
   "nbconvert_exporter": "python",
   "pygments_lexer": "ipython3",
   "version": "3.11.7"
  }
 },
 "nbformat": 4,
 "nbformat_minor": 5
}
